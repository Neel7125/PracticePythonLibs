{
 "cells": [
  {
   "cell_type": "markdown",
   "id": "70493811",
   "metadata": {},
   "source": [
    "## Data Simulation"
   ]
  },
  {
   "cell_type": "code",
   "execution_count": 2,
   "id": "d7f50345",
   "metadata": {},
   "outputs": [],
   "source": [
    "import numpy as np\n",
    "\n",
    "rng = np.random.default_rng(42)"
   ]
  },
  {
   "cell_type": "code",
   "execution_count": 3,
   "id": "92af2bfc",
   "metadata": {},
   "outputs": [],
   "source": [
    "n = 10000\n",
    "ages = rng.integers(18, 91, n)\n",
    "\n",
    "# Heights\n",
    "heihts = rng.normal(loc=170, scale=7, size=n)\n",
    "heihts = np.clip(heihts, 150, 200)\n",
    "heights = np.round(heihts, 1)\n",
    "\n",
    "# Weights\n",
    "bmi_mean = 24.0\n",
    "weights = bmi_mean * (heights / 100) ** 2 + rng.normal(0, 3.0, n)\n",
    "weights = np.clip(weights, 45, 150)\n",
    "weights = np.round(weights, 1)\n",
    "\n",
    "# Income\n",
    "incomes = rng.lognormal(mean=np.log(50000), sigma=0.9, size=n)\n",
    "incomes = np.clip(incomes, 10000, 200000)\n",
    "incomes = np.round(incomes, 2)"
   ]
  },
  {
   "cell_type": "code",
   "execution_count": 4,
   "id": "09b22034",
   "metadata": {},
   "outputs": [
    {
     "name": "stdout",
     "output_type": "stream",
     "text": [
      "[(24, 162.3, 60.4,  31263.85) (74, 166.2, 66.1,  50749.03)\n",
      " (65, 171.9, 69.8,  91443.  ) (50, 165.6, 68.3, 106980.41)\n",
      " (49, 168.1, 70.4,  66586.8 ) (80, 173.1, 66.4,  18906.83)\n",
      " (24, 167.6, 70.6,  10000.  ) (68, 171.6, 68.8,  42218.67)\n",
      " (32, 181.1, 79.4, 119842.62) (24, 168.8, 65.6,  74944.71)\n",
      " (56, 178.3, 77.4,  62168.77) (89, 173.9, 80.2,  49684.8 )\n",
      " (71, 159.7, 61.6,  66036.97) (73, 162.3, 61.8,  20436.88)\n",
      " (70, 164.2, 64. , 100907.54) (75, 164. , 60.1, 107093.13)\n",
      " (55, 169.4, 73.2,  36316.93) (27, 174.3, 73.9,  74093.65)\n",
      " (79, 178.8, 73.6,  10666.72) (50, 172.2, 68.1,  58795.55)\n",
      " (54, 166.9, 66.9,  44354.33) (45, 155.4, 60.8, 155295.95)\n",
      " (31, 170.5, 66.3,  41814.56) (85, 170.2, 72.9, 109269.91)\n",
      " (75, 171.3, 70.1,  35162.06) (65, 184.7, 79.1,  10000.  )\n",
      " (47, 178.7, 75.2,  40814.62) (78, 175.5, 79.2,  59686.42)\n",
      " (57, 163.3, 59.8,  57269.99) (50, 166.4, 64.3,  58054.28)\n",
      " (50, 169.3, 71.6,  31696.75) (34, 164.6, 65.7,  37362.52)\n",
      " (24, 173.5, 69.9,  18143.52) (58, 172.5, 74.3,  10000.  )\n",
      " (82, 162.4, 66.3,  45431.69) (22, 178.4, 77.4,  25567.97)\n",
      " (80, 170.7, 68.1, 132141.73) (78, 157.9, 58.5,  10000.  )\n",
      " (38, 169.6, 69.9,  64970.93) (64, 172. , 67.1, 200000.  )\n",
      " (30, 176.8, 79. ,  42413.27) (73, 167.6, 72.5,  49876.49)\n",
      " (69, 175.8, 73.5,  73386.14) (43, 171.3, 71.5,  78735.22)\n",
      " (22, 160.8, 65.6,  34617.74) (88, 160.1, 67.4,  20177.26)\n",
      " (50, 177.9, 80.6,  89969.59) (83, 178.4, 71.2,  10000.  )\n",
      " (67, 172.3, 70.3, 105744.78) (74, 180.5, 79.7,  35142.26)\n",
      " (73, 177.4, 74. ,  50139.02) (32, 174.8, 78.7,  31155.04)\n",
      " (44, 163.6, 69.1, 181239.14) (52, 182.1, 77.1,  62560.41)\n",
      " (54, 173.8, 72. ,  37429.49) (21, 167.3, 64.9,  36492.63)\n",
      " (57, 165.3, 65. ,  43758.31) (29, 171.8, 70.2, 200000.  )\n",
      " (72, 158.3, 63. ,  15281.51) (67, 174.9, 70.8, 132504.55)\n",
      " (85, 163.3, 56.2,  83372.44) (72, 172.6, 66.7, 199907.26)\n",
      " (44, 166.3, 63.3,  88074.51) (88, 168.1, 65.9,  50151.56)\n",
      " (47, 164.7, 65.7, 125216.95) (41, 168.9, 65.2,  61486.33)\n",
      " (84, 183.2, 76.9,  98640.65) (45, 179.7, 74.7, 180805.26)\n",
      " (23, 172.5, 68.1,  54341.65) (52, 169.8, 67.5,  34126.58)\n",
      " (76, 175.9, 72.5,  28010.86) (31, 177.9, 78. ,  75001.59)\n",
      " (51, 164.2, 61.7,  22684.26) (27, 169.5, 67.9,  36495.85)\n",
      " (68, 157.2, 57.7,  20930.58) (52, 177.9, 78.4,  79006.35)\n",
      " (42, 184.5, 81.2,  25408.48) (34, 170.6, 73. ,  15704.75)\n",
      " (59, 155.1, 54.3,  18399.53) (66, 174.3, 72.8,  29905.53)\n",
      " (86, 163.7, 62.6,  32451.68) (49, 165.4, 62. ,  62698.05)\n",
      " (29, 174.4, 72.8,  43231.18) (78, 171.8, 76. ,  69776.88)\n",
      " (63, 166.6, 64.1,  75006.46) (69, 165.5, 65.4,  97365.56)\n",
      " (25, 170.9, 66.2,  10000.  ) (40, 167.1, 62.6,  18129.17)\n",
      " (74, 162.2, 60.8,  82386.46) (78, 167.7, 66.1,  60478.87)\n",
      " (49, 172.4, 70.1, 120453.36) (76, 168.8, 67.7,  12458.55)\n",
      " (79, 160.1, 56.6,  32602.33) (46, 176.9, 73.2,  38293.53)\n",
      " (83, 150.8, 56.1,  58086.33) (39, 166.9, 62.8,  51640.83)\n",
      " (35, 165.7, 64.8,  76263.39) (67, 171. , 71.1,  45097.84)\n",
      " (64, 173.9, 70.2, 171936.57) (28, 177.9, 77. , 200000.  )]\n"
     ]
    }
   ],
   "source": [
    "dtype = [('Age', 'i4'), ('Height_cm', 'f4'), ('Weight_kg', 'f4'), ('Income', 'f8')]\n",
    "data  = np.empty(n, dtype=dtype)\n",
    "\n",
    "data['Age'] = ages\n",
    "data['Height_cm'] = heights\n",
    "data['Weight_kg'] = weights\n",
    "data['Income'] = incomes\n",
    "\n",
    "print(data[:100])"
   ]
  },
  {
   "cell_type": "code",
   "execution_count": 5,
   "id": "7ef45bb1",
   "metadata": {},
   "outputs": [],
   "source": [
    "rows = np.column_stack((ages, heights, weights, incomes))\n",
    "np.savetxt('dataSimlulation.csv',rows, delimiter=',', \n",
    "           header='Age,Height_cm,Weight_kg,Income', \n",
    "           comments='', fmt=['%d', '%.1f', '%.1f', '%.2f'])"
   ]
  },
  {
   "cell_type": "markdown",
   "id": "1cd82a43",
   "metadata": {},
   "source": [
    "## Basic Statistics"
   ]
  },
  {
   "cell_type": "code",
   "execution_count": 6,
   "id": "c6be62ba",
   "metadata": {},
   "outputs": [],
   "source": [
    "ages = data['Age']\n",
    "heights = data['Height_cm']\n",
    "weights = data['Weight_kg']\n",
    "incomes = data['Income']"
   ]
  },
  {
   "cell_type": "code",
   "execution_count": 9,
   "id": "3fddb26d",
   "metadata": {},
   "outputs": [
    {
     "name": "stdout",
     "output_type": "stream",
     "text": [
      "Mean Age: 53.7376\n",
      "Mean Height: 169.9806\n",
      "Mean Weight: 69.565796\n",
      "Mean Income: 68214.606163\n",
      "------------------------------\n",
      "Median Age: 54.0\n",
      "Median Height: 169.9\n",
      "Median Weight: 69.5\n",
      "Median Income: 50163.455\n",
      "------------------------------\n",
      "Height Variance: 49.34279\n",
      "Height Standard Deviation: 7.024442\n"
     ]
    }
   ],
   "source": [
    "# Mean\n",
    "print(\"Mean Age:\", np.mean(ages))\n",
    "print(\"Mean Height:\", np.mean(heights))\n",
    "print(\"Mean Weight:\", np.mean(weights))\n",
    "print(\"Mean Income:\", np.mean(incomes))\n",
    "\n",
    "print(\"-\" * 30)\n",
    "\n",
    "# Median\n",
    "print(\"Median Age:\", np.median(ages))\n",
    "print(\"Median Height:\", np.median(heights))\n",
    "print(\"Median Weight:\", np.median(weights))\n",
    "print(\"Median Income:\", np.median(incomes))\n",
    "\n",
    "print(\"-\" * 30)\n",
    "\n",
    "# Standard Deviation\n",
    "print(\"Height Variance:\", np.var(heights))\n",
    "print(\"Height Standard Deviation:\", np.std(heights))"
   ]
  },
  {
   "cell_type": "code",
   "execution_count": 10,
   "id": "196614ee",
   "metadata": {},
   "outputs": [
    {
     "name": "stdout",
     "output_type": "stream",
     "text": [
      "Correlation matrix (Height vs Weight):\n",
      " [[1.        0.8847048]\n",
      " [0.8847048 1.       ]]\n",
      "Correlation coefficient (Height vs Weight): 0.8847047953910524\n"
     ]
    }
   ],
   "source": [
    "corr_mtx = np.corrcoef(heights, weights)\n",
    "print(\"Correlation matrix (Height vs Weight):\\n\", corr_mtx)\n",
    "print(\"Correlation coefficient (Height vs Weight):\", corr_mtx[0, 1])"
   ]
  },
  {
   "cell_type": "code",
   "execution_count": 17,
   "id": "c5e0e593",
   "metadata": {},
   "outputs": [
    {
     "name": "stdout",
     "output_type": "stream",
     "text": [
      "Top 10 Incomes:\n",
      " [200000. 200000. 200000. 200000. 200000. 200000. 200000. 200000. 200000.\n",
      " 200000.]\n",
      "Corresponding Ages: [71 73 19 59 36 49 28 73 43 59]\n",
      "Corresponding Heights: [159.2 156.6 184.3 173.  161.2 160.1 158.9 161.2 173.4 178.6]\n",
      "Corresponding Weights: [62.1 56.7 82.5 72.  64.  64.7 57.2 65.9 71.  81.9]\n"
     ]
    }
   ],
   "source": [
    "# Top 10 richest peoples\n",
    "\n",
    "top10_idx = np.argsort(incomes)[-10:]\n",
    "print(\"Top 10 Incomes:\\n\", incomes[top10_idx])\n",
    "\n",
    "# Corresponding ages, heights, weights\n",
    "print(\"Corresponding Ages:\", ages[top10_idx])\n",
    "print(\"Corresponding Heights:\", heights[top10_idx])\n",
    "print(\"Corresponding Weights:\", weights[top10_idx])\n"
   ]
  },
  {
   "cell_type": "code",
   "execution_count": 18,
   "id": "c1301114",
   "metadata": {},
   "outputs": [
    {
     "name": "stdout",
     "output_type": "stream",
     "text": [
      "Means      : [5.37376000e+01 1.69980610e+02 6.95657900e+01 6.82146062e+04]\n",
      "Medians    : [   54.          169.8999939    69.5       50163.455    ]\n",
      "Min values : [   18.   150.    45. 10000.]\n",
      "Max values : [9.00000000e+01 1.99100006e+02 9.60000000e+01 2.00000000e+05]\n"
     ]
    }
   ],
   "source": [
    "summary = np.column_stack((ages, heights, weights, incomes))\n",
    "\n",
    "means = np.mean(summary, axis=0)\n",
    "medians = np.median(summary, axis=0)\n",
    "min = np.min(summary, axis=0)\n",
    "max = np.max(summary, axis=0)\n",
    "\n",
    "print(\"Means      :\", means)\n",
    "print(\"Medians    :\", medians)\n",
    "print(\"Min values :\", min)\n",
    "print(\"Max values :\", max)"
   ]
  }
 ],
 "metadata": {
  "kernelspec": {
   "display_name": "Python 3",
   "language": "python",
   "name": "python3"
  },
  "language_info": {
   "codemirror_mode": {
    "name": "ipython",
    "version": 3
   },
   "file_extension": ".py",
   "mimetype": "text/x-python",
   "name": "python",
   "nbconvert_exporter": "python",
   "pygments_lexer": "ipython3",
   "version": "3.10.0"
  }
 },
 "nbformat": 4,
 "nbformat_minor": 5
}
