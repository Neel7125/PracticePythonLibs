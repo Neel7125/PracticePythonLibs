{
 "cells": [
  {
   "cell_type": "markdown",
   "id": "70493811",
   "metadata": {},
   "source": [
    "## Data Simulation"
   ]
  },
  {
   "cell_type": "code",
   "execution_count": 2,
   "id": "d7f50345",
   "metadata": {},
   "outputs": [],
   "source": [
    "import numpy as np\n",
    "\n",
    "rng = np.random.default_rng(42)"
   ]
  },
  {
   "cell_type": "code",
   "execution_count": 3,
   "id": "92af2bfc",
   "metadata": {},
   "outputs": [],
   "source": [
    "n = 10000\n",
    "ages = rng.integers(18, 91, n)\n",
    "\n",
    "# Heights\n",
    "heihts = rng.normal(loc=170, scale=7, size=n)\n",
    "heihts = np.clip(heihts, 150, 200)\n",
    "heights = np.round(heihts, 1)\n",
    "\n",
    "# Weights\n",
    "bmi_mean = 24.0\n",
    "weights = bmi_mean * (heights / 100) ** 2 + rng.normal(0, 3.0, n)\n",
    "weights = np.clip(weights, 45, 150)\n",
    "weights = np.round(weights, 1)\n",
    "\n",
    "# Income\n",
    "incomes = rng.lognormal(mean=np.log(50000), sigma=0.9, size=n)\n",
    "incomes = np.clip(incomes, 10000, 200000)\n",
    "incomes = np.round(incomes, 2)"
   ]
  },
  {
   "cell_type": "code",
   "execution_count": 4,
   "id": "09b22034",
   "metadata": {},
   "outputs": [
    {
     "name": "stdout",
     "output_type": "stream",
     "text": [
      "[(24, 162.3, 60.4,  31263.85) (74, 166.2, 66.1,  50749.03)\n",
      " (65, 171.9, 69.8,  91443.  ) (50, 165.6, 68.3, 106980.41)\n",
      " (49, 168.1, 70.4,  66586.8 ) (80, 173.1, 66.4,  18906.83)\n",
      " (24, 167.6, 70.6,  10000.  ) (68, 171.6, 68.8,  42218.67)\n",
      " (32, 181.1, 79.4, 119842.62) (24, 168.8, 65.6,  74944.71)\n",
      " (56, 178.3, 77.4,  62168.77) (89, 173.9, 80.2,  49684.8 )\n",
      " (71, 159.7, 61.6,  66036.97) (73, 162.3, 61.8,  20436.88)\n",
      " (70, 164.2, 64. , 100907.54) (75, 164. , 60.1, 107093.13)\n",
      " (55, 169.4, 73.2,  36316.93) (27, 174.3, 73.9,  74093.65)\n",
      " (79, 178.8, 73.6,  10666.72) (50, 172.2, 68.1,  58795.55)\n",
      " (54, 166.9, 66.9,  44354.33) (45, 155.4, 60.8, 155295.95)\n",
      " (31, 170.5, 66.3,  41814.56) (85, 170.2, 72.9, 109269.91)\n",
      " (75, 171.3, 70.1,  35162.06) (65, 184.7, 79.1,  10000.  )\n",
      " (47, 178.7, 75.2,  40814.62) (78, 175.5, 79.2,  59686.42)\n",
      " (57, 163.3, 59.8,  57269.99) (50, 166.4, 64.3,  58054.28)\n",
      " (50, 169.3, 71.6,  31696.75) (34, 164.6, 65.7,  37362.52)\n",
      " (24, 173.5, 69.9,  18143.52) (58, 172.5, 74.3,  10000.  )\n",
      " (82, 162.4, 66.3,  45431.69) (22, 178.4, 77.4,  25567.97)\n",
      " (80, 170.7, 68.1, 132141.73) (78, 157.9, 58.5,  10000.  )\n",
      " (38, 169.6, 69.9,  64970.93) (64, 172. , 67.1, 200000.  )\n",
      " (30, 176.8, 79. ,  42413.27) (73, 167.6, 72.5,  49876.49)\n",
      " (69, 175.8, 73.5,  73386.14) (43, 171.3, 71.5,  78735.22)\n",
      " (22, 160.8, 65.6,  34617.74) (88, 160.1, 67.4,  20177.26)\n",
      " (50, 177.9, 80.6,  89969.59) (83, 178.4, 71.2,  10000.  )\n",
      " (67, 172.3, 70.3, 105744.78) (74, 180.5, 79.7,  35142.26)\n",
      " (73, 177.4, 74. ,  50139.02) (32, 174.8, 78.7,  31155.04)\n",
      " (44, 163.6, 69.1, 181239.14) (52, 182.1, 77.1,  62560.41)\n",
      " (54, 173.8, 72. ,  37429.49) (21, 167.3, 64.9,  36492.63)\n",
      " (57, 165.3, 65. ,  43758.31) (29, 171.8, 70.2, 200000.  )\n",
      " (72, 158.3, 63. ,  15281.51) (67, 174.9, 70.8, 132504.55)\n",
      " (85, 163.3, 56.2,  83372.44) (72, 172.6, 66.7, 199907.26)\n",
      " (44, 166.3, 63.3,  88074.51) (88, 168.1, 65.9,  50151.56)\n",
      " (47, 164.7, 65.7, 125216.95) (41, 168.9, 65.2,  61486.33)\n",
      " (84, 183.2, 76.9,  98640.65) (45, 179.7, 74.7, 180805.26)\n",
      " (23, 172.5, 68.1,  54341.65) (52, 169.8, 67.5,  34126.58)\n",
      " (76, 175.9, 72.5,  28010.86) (31, 177.9, 78. ,  75001.59)\n",
      " (51, 164.2, 61.7,  22684.26) (27, 169.5, 67.9,  36495.85)\n",
      " (68, 157.2, 57.7,  20930.58) (52, 177.9, 78.4,  79006.35)\n",
      " (42, 184.5, 81.2,  25408.48) (34, 170.6, 73. ,  15704.75)\n",
      " (59, 155.1, 54.3,  18399.53) (66, 174.3, 72.8,  29905.53)\n",
      " (86, 163.7, 62.6,  32451.68) (49, 165.4, 62. ,  62698.05)\n",
      " (29, 174.4, 72.8,  43231.18) (78, 171.8, 76. ,  69776.88)\n",
      " (63, 166.6, 64.1,  75006.46) (69, 165.5, 65.4,  97365.56)\n",
      " (25, 170.9, 66.2,  10000.  ) (40, 167.1, 62.6,  18129.17)\n",
      " (74, 162.2, 60.8,  82386.46) (78, 167.7, 66.1,  60478.87)\n",
      " (49, 172.4, 70.1, 120453.36) (76, 168.8, 67.7,  12458.55)\n",
      " (79, 160.1, 56.6,  32602.33) (46, 176.9, 73.2,  38293.53)\n",
      " (83, 150.8, 56.1,  58086.33) (39, 166.9, 62.8,  51640.83)\n",
      " (35, 165.7, 64.8,  76263.39) (67, 171. , 71.1,  45097.84)\n",
      " (64, 173.9, 70.2, 171936.57) (28, 177.9, 77. , 200000.  )]\n"
     ]
    }
   ],
   "source": [
    "dtype = [('Age', 'i4'), ('Height_cm', 'f4'), ('Weight_kg', 'f4'), ('Income', 'f8')]\n",
    "data  = np.empty(n, dtype=dtype)\n",
    "\n",
    "data['Age'] = ages\n",
    "data['Height_cm'] = heights\n",
    "data['Weight_kg'] = weights\n",
    "data['Income'] = incomes\n",
    "\n",
    "print(data[:100])"
   ]
  },
  {
   "cell_type": "code",
   "execution_count": 5,
   "id": "7ef45bb1",
   "metadata": {},
   "outputs": [],
   "source": [
    "rows = np.column_stack((ages, heights, weights, incomes))\n",
    "np.savetxt('dataSimlulation.csv',rows, delimiter=',', \n",
    "           header='Age,Height_cm,Weight_kg,Income', \n",
    "           comments='', fmt=['%d', '%.1f', '%.1f', '%.2f'])"
   ]
  },
  {
   "cell_type": "markdown",
   "id": "1cd82a43",
   "metadata": {},
   "source": [
    "## Basic Statistics"
   ]
  },
  {
   "cell_type": "code",
   "execution_count": 6,
   "id": "c6be62ba",
   "metadata": {},
   "outputs": [],
   "source": [
    "ages = data['Age']\n",
    "heights = data['Height_cm']\n",
    "weights = data['Weight_kg']\n",
    "incomes = data['Income']"
   ]
  },
  {
   "cell_type": "code",
   "execution_count": 7,
   "id": "3fddb26d",
   "metadata": {},
   "outputs": [
    {
     "name": "stdout",
     "output_type": "stream",
     "text": [
      "Mean Age: 53.7376\n",
      "Mean Height: 169.9806\n",
      "Mean Weight: 69.565796\n",
      "Mean Income: 68214.606163\n",
      "------------------------------\n",
      "Median Age: 54.0\n",
      "Median Height: 169.9\n",
      "Median Weight: 69.5\n",
      "Median Income: 50163.455\n",
      "------------------------------\n",
      "Height Variance: 49.34279\n",
      "Height Standard Deviation: 7.024442\n"
     ]
    }
   ],
   "source": [
    "# Mean\n",
    "print(\"Mean Age:\", np.mean(ages))\n",
    "print(\"Mean Height:\", np.mean(heights))\n",
    "print(\"Mean Weight:\", np.mean(weights))\n",
    "print(\"Mean Income:\", np.mean(incomes))\n",
    "\n",
    "print(\"-\" * 30)\n",
    "\n",
    "# Median\n",
    "print(\"Median Age:\", np.median(ages))\n",
    "print(\"Median Height:\", np.median(heights))\n",
    "print(\"Median Weight:\", np.median(weights))\n",
    "print(\"Median Income:\", np.median(incomes))\n",
    "\n",
    "print(\"-\" * 30)\n",
    "\n",
    "# Standard Deviation\n",
    "print(\"Height Variance:\", np.var(heights))\n",
    "print(\"Height Standard Deviation:\", np.std(heights))"
   ]
  },
  {
   "cell_type": "code",
   "execution_count": 8,
   "id": "196614ee",
   "metadata": {},
   "outputs": [
    {
     "name": "stdout",
     "output_type": "stream",
     "text": [
      "Correlation matrix (Height vs Weight):\n",
      " [[1.        0.8847048]\n",
      " [0.8847048 1.       ]]\n",
      "Correlation coefficient (Height vs Weight): 0.8847047953910524\n"
     ]
    }
   ],
   "source": [
    "corr_mtx = np.corrcoef(heights, weights)\n",
    "print(\"Correlation matrix (Height vs Weight):\\n\", corr_mtx)\n",
    "print(\"Correlation coefficient (Height vs Weight):\", corr_mtx[0, 1])"
   ]
  },
  {
   "cell_type": "code",
   "execution_count": 9,
   "id": "c5e0e593",
   "metadata": {},
   "outputs": [
    {
     "name": "stdout",
     "output_type": "stream",
     "text": [
      "Top 10 Incomes:\n",
      " [200000. 200000. 200000. 200000. 200000. 200000. 200000. 200000. 200000.\n",
      " 200000.]\n",
      "Corresponding Ages: [71 73 19 59 36 49 28 73 43 59]\n",
      "Corresponding Heights: [159.2 156.6 184.3 173.  161.2 160.1 158.9 161.2 173.4 178.6]\n",
      "Corresponding Weights: [62.1 56.7 82.5 72.  64.  64.7 57.2 65.9 71.  81.9]\n"
     ]
    }
   ],
   "source": [
    "# Top 10 richest peoples\n",
    "\n",
    "top10_idx = np.argsort(incomes)[-10:]\n",
    "print(\"Top 10 Incomes:\\n\", incomes[top10_idx])\n",
    "\n",
    "# Corresponding ages, heights, weights\n",
    "print(\"Corresponding Ages:\", ages[top10_idx])\n",
    "print(\"Corresponding Heights:\", heights[top10_idx])\n",
    "print(\"Corresponding Weights:\", weights[top10_idx])\n"
   ]
  },
  {
   "cell_type": "code",
   "execution_count": 10,
   "id": "c1301114",
   "metadata": {},
   "outputs": [
    {
     "name": "stdout",
     "output_type": "stream",
     "text": [
      "Means      : [5.37376000e+01 1.69980610e+02 6.95657900e+01 6.82146062e+04]\n",
      "Medians    : [   54.          169.8999939    69.5       50163.455    ]\n",
      "Min values : [   18.   150.    45. 10000.]\n",
      "Max values : [9.00000000e+01 1.99100006e+02 9.60000000e+01 2.00000000e+05]\n"
     ]
    }
   ],
   "source": [
    "summary = np.column_stack((ages, heights, weights, incomes))\n",
    "\n",
    "means = np.mean(summary, axis=0)\n",
    "medians = np.median(summary, axis=0)\n",
    "min = np.min(summary, axis=0)\n",
    "max = np.max(summary, axis=0)\n",
    "\n",
    "print(\"Means      :\", means)\n",
    "print(\"Medians    :\", medians)\n",
    "print(\"Min values :\", min)\n",
    "print(\"Max values :\", max)"
   ]
  },
  {
   "cell_type": "markdown",
   "id": "c2c708f4",
   "metadata": {},
   "source": [
    "## Data Manipulation"
   ]
  },
  {
   "cell_type": "code",
   "execution_count": 11,
   "id": "9b7ec1d5",
   "metadata": {},
   "outputs": [
    {
     "name": "stdout",
     "output_type": "stream",
     "text": [
      "First 10 normalized heights:\n",
      " [0.2505092  0.3299388  0.44602832 0.317719   0.3686355  0.4704685\n",
      " 0.35845223 0.4399186  0.6334013  0.38289207]\n",
      "--------------------------------------------------\n",
      "First 10 normalized weights:\n",
      " [0.30196083 0.41372547 0.48627457 0.4568628  0.49803925 0.41960788\n",
      " 0.50196075 0.46666673 0.6745098  0.40392154]\n"
     ]
    }
   ],
   "source": [
    "# Min-Max Normalization\n",
    "\n",
    "def minmax_scale(arr):\n",
    "    return (arr - arr.min()) / (arr.max() - arr.min())\n",
    "\n",
    "heights_norm = minmax_scale(heights)\n",
    "weights_norm = minmax_scale(weights)\n",
    "\n",
    "print(\"First 10 normalized heights:\\n\", heights_norm[:10])\n",
    "print('-' * 50)\n",
    "print(\"First 10 normalized weights:\\n\", weights_norm[:10])"
   ]
  },
  {
   "cell_type": "code",
   "execution_count": 12,
   "id": "ae43e91e",
   "metadata": {},
   "outputs": [
    {
     "name": "stdout",
     "output_type": "stream",
     "text": [
      "First 10 BMI Values:\n",
      " [22.929781 23.929821 23.621296 24.905775 24.913641 22.160212 25.13371\n",
      " 23.364357 24.209373 23.02284 ]\n"
     ]
    }
   ],
   "source": [
    "# Compute BMI (Body Mass Index)\n",
    "\n",
    "bmi = weights / ((heights / 100.0)**2)\n",
    "print(\"First 10 BMI Values:\\n\", bmi[:10])"
   ]
  },
  {
   "cell_type": "code",
   "execution_count": 13,
   "id": "6788f361",
   "metadata": {},
   "outputs": [
    {
     "name": "stdout",
     "output_type": "stream",
     "text": [
      "First 10 BMI Categories : \n",
      " ['Normal' 'Normal' 'Normal' 'Normal' 'Normal' 'Normal' 'Overweight'\n",
      " 'Normal' 'Normal' 'Normal' 'Normal' 'Overweight' 'Normal' 'Normal'\n",
      " 'Normal' 'Normal' 'Overweight' 'Normal' 'Normal' 'Normal' 'Normal'\n",
      " 'Overweight' 'Normal' 'Overweight' 'Normal' 'Normal' 'Normal'\n",
      " 'Overweight' 'Normal' 'Normal' 'Normal' 'Normal' 'Normal' 'Normal'\n",
      " 'Overweight' 'Normal' 'Normal' 'Normal' 'Normal' 'Normal' 'Overweight'\n",
      " 'Overweight' 'Normal' 'Normal' 'Overweight' 'Overweight' 'Overweight'\n",
      " 'Normal' 'Normal' 'Normal']\n"
     ]
    }
   ],
   "source": [
    "# Categorize BMI into groups\n",
    "\n",
    "bmi_category = np.empty(bmi.shape, dtype=object)\n",
    "\n",
    "bmi_category = np.where(bmi<18.5, \"Underweight\", bmi_category)\n",
    "bmi_category = np.where((bmi>=18.5) & (bmi<25), \"Normal\", bmi_category)\n",
    "bmi_category = np.where((bmi>=25) & (bmi<30), \"Overweight\", bmi_category)\n",
    "bmi_category = np.where(bmi>=30, \"Obese\", bmi_category)\n",
    "\n",
    "print(\"First 10 BMI Categories : \\n\", bmi_category[:50])"
   ]
  },
  {
   "cell_type": "code",
   "execution_count": 14,
   "id": "f521eb9a",
   "metadata": {},
   "outputs": [
    {
     "name": "stdout",
     "output_type": "stream",
     "text": [
      "BMI Group Distribution:\n",
      " {'Normal': np.int64(8213), 'Overweight': np.int64(1787)}\n"
     ]
    }
   ],
   "source": [
    "# Count how many people in each BMI group\n",
    "\n",
    "from enum import unique\n",
    "\n",
    "\n",
    "unique, counts = np.unique(bmi_category, return_counts=True)\n",
    "bmi_distribution = dict(zip(unique, counts))\n",
    "print(\"BMI Group Distribution:\\n\", bmi_distribution)"
   ]
  },
  {
   "cell_type": "code",
   "execution_count": 15,
   "id": "9149f3cf",
   "metadata": {},
   "outputs": [
    {
     "name": "stdout",
     "output_type": "stream",
     "text": [
      "[(24, 162.3, 60.4, 31263.85, 22.929781, 'Normal')\n",
      " (74, 166.2, 66.1, 50749.03, 23.929821, 'Normal')\n",
      " (65, 171.9, 69.8, 91443.  , 23.621296, 'Normal') ...\n",
      " (43, 164.7, 68.2, 26994.41, 25.141848, 'Overweight')\n",
      " (59, 166.6, 64.5, 40104.88, 23.238586, 'Normal')\n",
      " (62, 175.1, 76.4, 30146.17, 24.918451, 'Normal')]\n"
     ]
    }
   ],
   "source": [
    "# Attach new columns to the dataset\n",
    "\n",
    "dtype2 = [('age', 'i4'), ('height_cm', 'f4'), ('weight_kg', 'f4'),\n",
    "          ('income', 'f8'), ('bmi', 'f4'), ('bmi_category', 'U12')]\n",
    "\n",
    "data2 = np.empty(n, dtype=dtype2)\n",
    "\n",
    "data2['age'] = ages\n",
    "data2['height_cm'] = heights\n",
    "data2['weight_kg'] = weights\n",
    "data2['income'] = incomes\n",
    "data2['bmi'] = bmi\n",
    "data2['bmi_category'] = bmi_category\n",
    "\n",
    "print(data2)"
   ]
  },
  {
   "cell_type": "code",
   "execution_count": 16,
   "id": "e9966f9f",
   "metadata": {},
   "outputs": [],
   "source": [
    "rows_extended = np.column_stack((ages, heights, weights, incomes, bmi))\n",
    "rows_with_cat = np.column_stack((ages, heights, weights, incomes, bmi, bmi_category))\n",
    "\n",
    "np.savetxt(\n",
    "    \"dataSimulation_extended.csv\",\n",
    "    rows_with_cat,\n",
    "    delimiter=\",\",\n",
    "    fmt=[\"%d\", \"%.1f\", \"%.1f\", \"%.2f\", \"%.2f\", \"%s\"],\n",
    "    header=\"age,height_cm,weight_kg,income,bmi,bmi_category\",\n",
    "    comments=\"\"\n",
    ")"
   ]
  },
  {
   "cell_type": "markdown",
   "id": "43dfa87b",
   "metadata": {},
   "source": [
    "## Linear Algebra with NumPy"
   ]
  },
  {
   "cell_type": "code",
   "execution_count": 17,
   "id": "1ee582fd",
   "metadata": {},
   "outputs": [
    {
     "name": "stdout",
     "output_type": "stream",
     "text": [
      "Matrix :\n",
      " [[ 1  1  4]\n",
      " [ 5  2  6]\n",
      " [10  7 10]]\n"
     ]
    }
   ],
   "source": [
    "A = rng.integers(1, 11, size=(3, 3))\n",
    "print(\"Matrix :\\n\", A)"
   ]
  },
  {
   "cell_type": "code",
   "execution_count": 18,
   "id": "43265213",
   "metadata": {},
   "outputs": [
    {
     "name": "stdout",
     "output_type": "stream",
     "text": [
      "Determinant of A:\n",
      " 48.00000000000003\n"
     ]
    }
   ],
   "source": [
    "det_A = np.linalg.det(A)\n",
    "print(\"Determinant of A:\\n\", det_A)"
   ]
  },
  {
   "cell_type": "code",
   "execution_count": 19,
   "id": "b5a6ea47",
   "metadata": {},
   "outputs": [
    {
     "name": "stdout",
     "output_type": "stream",
     "text": [
      "Inverse of A:\n",
      " [[-0.45833333  0.375      -0.04166667]\n",
      " [ 0.20833333 -0.625       0.29166667]\n",
      " [ 0.3125      0.0625     -0.0625    ]]\n"
     ]
    }
   ],
   "source": [
    "if not np.isclose(det_A, 0):\n",
    "    A_inv = np.linalg.inv(A)\n",
    "    print(\"Inverse of A:\\n\", A_inv)\n",
    "else:\n",
    "    print(\"Not invertible\")"
   ]
  },
  {
   "cell_type": "code",
   "execution_count": 21,
   "id": "fe0b78f8",
   "metadata": {},
   "outputs": [
    {
     "name": "stdout",
     "output_type": "stream",
     "text": [
      "Eigenvalues:\n",
      " [16.50788199 -2.16455895 -1.34332304]\n",
      "------------------------------\n",
      "Eigenvectors:\n",
      " [[-0.25062502 -0.79108628  0.74601841]\n",
      " [-0.44247703  0.07516165 -0.60100635]\n",
      " [-0.86104656  0.60706938 -0.28678895]]\n"
     ]
    }
   ],
   "source": [
    "# Eigenvalues & Eigenvectors\n",
    "\n",
    "eigavals, eigvecs = np.linalg.eig(A)\n",
    "print(\"Eigenvalues:\\n\", eigavals)\n",
    "print(\"-\" * 30)\n",
    "print(\"Eigenvectors:\\n\", eigvecs)"
   ]
  },
  {
   "cell_type": "code",
   "execution_count": 22,
   "id": "6c641ab9",
   "metadata": {},
   "outputs": [
    {
     "name": "stdout",
     "output_type": "stream",
     "text": [
      "Solution (x, y):\n",
      " [1. 3.]\n"
     ]
    }
   ],
   "source": [
    "# Solve a system of linear equations\n",
    "# System : 2x + y = 5 & x + 3y = 10\n",
    "\n",
    "B = np.array([[2,1],\n",
    "             [1,3]])\n",
    "\n",
    "b = np.array([5, 10])\n",
    "\n",
    "x = np.linalg.solve(B, b)\n",
    "print(\"Solution (x, y):\\n\", x)"
   ]
  },
  {
   "cell_type": "code",
   "execution_count": 24,
   "id": "2c9248b2",
   "metadata": {},
   "outputs": [
    {
     "name": "stdout",
     "output_type": "stream",
     "text": [
      "Matrix C:\n",
      " [[1 3 2]\n",
      " [4 2 3]\n",
      " [3 3 4]]\n",
      "------------------------------\n",
      "Dot Product A.C:\n",
      " [[17 17 21]\n",
      " [31 37 40]\n",
      " [68 74 81]]\n"
     ]
    }
   ],
   "source": [
    "# Matrix multiplication (dot product)\n",
    "\n",
    "C = rng.integers(1, 5, size=(3,3))\n",
    "print(\"Matrix C:\\n\", C)\n",
    "\n",
    "print('-'*30)\n",
    "\n",
    "AC = np.dot(A, C)\n",
    "print(\"Dot Product A.C:\\n\", AC)"
   ]
  },
  {
   "cell_type": "markdown",
   "id": "6f5babb1",
   "metadata": {},
   "source": [
    "## Time Series Simulation"
   ]
  },
  {
   "cell_type": "code",
   "execution_count": 27,
   "id": "22880bc9",
   "metadata": {},
   "outputs": [
    {
     "name": "stdout",
     "output_type": "stream",
     "text": [
      "Daily Return:\n",
      " [-0.79092169  1.34970561 -1.10667288  0.43919773 -0.48584068  1.08234604\n",
      "  0.88374084 -0.00204981  1.55472039 -0.18739922]\n"
     ]
    }
   ],
   "source": [
    "days = 365\n",
    "start_price = 100\n",
    "\n",
    "daily_return = rng.normal(0,1, days)\n",
    "print(\"Daily Return:\\n\", daily_return[:10])"
   ]
  },
  {
   "cell_type": "code",
   "execution_count": 28,
   "id": "4761a9c8",
   "metadata": {},
   "outputs": [
    {
     "name": "stdout",
     "output_type": "stream",
     "text": [
      "First 10 Stock Prices:\n",
      " [ 99.20907831 100.55878392  99.45211104  99.89130877  99.40546809\n",
      " 100.48781413 101.37155498 101.36950516 102.92422556 102.73682634]\n"
     ]
    }
   ],
   "source": [
    "# Compute stock prices\n",
    "\n",
    "price_change = np.cumsum(daily_return)\n",
    "prices = start_price + price_change\n",
    "\n",
    "print(\"First 10 Stock Prices:\\n\", prices[:10])"
   ]
  },
  {
   "cell_type": "code",
   "execution_count": 29,
   "id": "9ff745ed",
   "metadata": {},
   "outputs": [
    {
     "name": "stdout",
     "output_type": "stream",
     "text": [
      "First 10 Stock Prices (Percentage Growth):\n",
      " [98.38155112 97.01103427 98.15349456 95.53943208 95.83580678 94.23942406\n",
      " 91.87755623 89.87156687 89.82880319 91.20098282]\n"
     ]
    }
   ],
   "source": [
    "# Percentage growth\n",
    "\n",
    "daily_pct = rng.normal(0, 0.02, days)\n",
    "prices2 = start_price * np.cumprod(1 + daily_pct)\n",
    "print(\"First 10 Stock Prices (Percentage Growth):\\n\", prices2[:10])"
   ]
  },
  {
   "cell_type": "code",
   "execution_count": 30,
   "id": "4635fe6c",
   "metadata": {},
   "outputs": [
    {
     "data": {
      "image/png": "[encoded data removed]",
      "text/plain": [
       "<Figure size 1200x600 with 1 Axes>"
      ]
     },
     "metadata": {},
     "output_type": "display_data"
    }
   ],
   "source": [
    "# Plot the results\n",
    "\n",
    "from cProfile import label\n",
    "import matplotlib.pyplot as plt\n",
    "\n",
    "plt.figure(figsize=(12, 6))\n",
    "plt.plot(prices2,label=\"Simulated Stock Prices\")\n",
    "plt.xlabel(\"Days\")\n",
    "plt.ylabel(\"Price\")\n",
    "plt.title(\"Stock Price Simulation\")\n",
    "plt.legend()\n",
    "plt.grid(True)\n",
    "plt.show()"
   ]
  }
 ],
 "metadata": {
  "kernelspec": {
   "display_name": "Python 3",
   "language": "python",
   "name": "python3"
  },
  "language_info": {
   "codemirror_mode": {
    "name": "ipython",
    "version": 3
   },
   "file_extension": ".py",
   "mimetype": "text/x-python",
   "name": "python",
   "nbconvert_exporter": "python",
   "pygments_lexer": "ipython3",
   "version": "3.10.0"
  }
 },
 "nbformat": 4,
 "nbformat_minor": 5
}
